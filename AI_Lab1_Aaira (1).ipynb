{
  "nbformat": 4,
  "nbformat_minor": 0,
  "metadata": {
    "colab": {
      "provenance": [],
      "toc_visible": true
    },
    "kernelspec": {
      "name": "python3",
      "display_name": "Python 3"
    },
    "language_info": {
      "name": "python"
    }
  },
  "cells": [
    {
      "cell_type": "markdown",
      "source": [
        "**Introduction to Python**"
      ],
      "metadata": {
        "id": "RWt1H0Ft5yy-"
      }
    },
    {
      "cell_type": "markdown",
      "source": [
        "**Activities**"
      ],
      "metadata": {
        "id": "fUwL15Y0K7AD"
      }
    },
    {
      "cell_type": "code",
      "source": [
        "!python --version"
      ],
      "metadata": {
        "colab": {
          "base_uri": "https://localhost:8080/"
        },
        "id": "tGQv7FeF53HG",
        "outputId": "f327e756-018b-4472-9e12-48c96757ab93"
      },
      "execution_count": 162,
      "outputs": [
        {
          "output_type": "stream",
          "name": "stdout",
          "text": [
            "Python 3.12.11\n"
          ]
        }
      ]
    },
    {
      "cell_type": "markdown",
      "source": [
        "**Activity 1: Arithmetic operations**"
      ],
      "metadata": {
        "id": "YN1QGjqw7ykI"
      }
    },
    {
      "cell_type": "code",
      "source": [
        "print(1 + 3)\n",
        "print(10 / 2)\n",
        "print(5 ** 2)"
      ],
      "metadata": {
        "colab": {
          "base_uri": "https://localhost:8080/"
        },
        "id": "y7-M_c337Ofh",
        "outputId": "e6cc761c-9191-4661-848b-500b86246042"
      },
      "execution_count": 163,
      "outputs": [
        {
          "output_type": "stream",
          "name": "stdout",
          "text": [
            "4\n",
            "5.0\n",
            "25\n"
          ]
        }
      ]
    },
    {
      "cell_type": "markdown",
      "source": [
        "**Activity 2: String Manipulation**"
      ],
      "metadata": {
        "id": "bejZlQZE8AVg"
      }
    },
    {
      "cell_type": "code",
      "source": [
        "print(\"python\" + \" basics\")\n",
        "print(\"AI \" * 3)"
      ],
      "metadata": {
        "colab": {
          "base_uri": "https://localhost:8080/"
        },
        "id": "lfbKkdk08JpQ",
        "outputId": "4e536258-567b-43fe-93ae-9d7dd7cf8419"
      },
      "execution_count": 164,
      "outputs": [
        {
          "output_type": "stream",
          "name": "stdout",
          "text": [
            "python basics\n",
            "AI AI AI \n"
          ]
        }
      ]
    },
    {
      "cell_type": "markdown",
      "source": [
        "**Activity 3: Variables and Data Types**"
      ],
      "metadata": {
        "id": "2i3kNMIt8sNZ"
      }
    },
    {
      "cell_type": "code",
      "source": [
        "fruit = \"apple\"\n",
        "print(fruit)\n",
        "fruit = 17\n",
        "print(fruit)\n",
        "x = str(3); y = int(3); z = float(3)\n",
        "print(type(x), type(y), type(z))"
      ],
      "metadata": {
        "colab": {
          "base_uri": "https://localhost:8080/"
        },
        "id": "HlV-mawJ8l3A",
        "outputId": "33981ff0-3a2b-4927-d0da-44716c7e02e2"
      },
      "execution_count": 165,
      "outputs": [
        {
          "output_type": "stream",
          "name": "stdout",
          "text": [
            "apple\n",
            "17\n",
            "<class 'str'> <class 'int'> <class 'float'>\n"
          ]
        }
      ]
    },
    {
      "cell_type": "markdown",
      "source": [
        "**Activity 4: Lists**"
      ],
      "metadata": {
        "id": "TyoLttZ59-xF"
      }
    },
    {
      "cell_type": "code",
      "source": [
        "\n",
        "mylist = [\"apple\", 34.5, \"banana\", 9]\n",
        "\n",
        "print(\"Complete list:\", mylist)\n",
        "\n",
        "print(\"First element:\", mylist[0])\n",
        "\n",
        "\n",
        "print(\"Last element:\", mylist[-1])\n",
        "\n",
        "\n",
        "print(\"Sublist from index 1 to 2:\", mylist[1:3])\n",
        "\n",
        "\n",
        "print(\"Every second element:\", mylist[::2])\n",
        "\n",
        "if \"app\" in mylist[0]:\n",
        "            print(\"Substring 'app' found in the first element.\")\n",
        "\n",
        "mylist.append(\"grape\")\n",
        "print(\"List after appending 'grape':\", mylist)\n",
        "\n",
        "mylist.remove(\"banana\")\n",
        "print(\"List after removing 'banana':\", mylist)\n",
        "\n",
        "mylist[1] = 99.9\n",
        "print(\"List after updating index 1:\", mylist)\n"
      ],
      "metadata": {
        "colab": {
          "base_uri": "https://localhost:8080/"
        },
        "id": "tnrf5jff-Fkm",
        "outputId": "dc495940-0e72-4c07-e7f3-32ae1f545090"
      },
      "execution_count": 166,
      "outputs": [
        {
          "output_type": "stream",
          "name": "stdout",
          "text": [
            "Complete list: ['apple', 34.5, 'banana', 9]\n",
            "First element: apple\n",
            "Last element: 9\n",
            "Sublist from index 1 to 2: [34.5, 'banana']\n",
            "Every second element: ['apple', 'banana']\n",
            "Substring 'app' found in the first element.\n",
            "List after appending 'grape': ['apple', 34.5, 'banana', 9, 'grape']\n",
            "List after removing 'banana': ['apple', 34.5, 9, 'grape']\n",
            "List after updating index 1: ['apple', 99.9, 9, 'grape']\n"
          ]
        }
      ]
    },
    {
      "cell_type": "markdown",
      "source": [
        "**Activity 5: Dictionaries**"
      ],
      "metadata": {
        "id": "Mp5ReVsHGw4i"
      }
    },
    {
      "cell_type": "code",
      "source": [
        "\n",
        "car = {\"brand\": \"Ford\", \"model\": \"Mustang\", \"year\": 1964}\n",
        "print(\"Initial dictionary:\", car)\n",
        "\n",
        "print(\"Model of the car:\", car[\"model\"])\n",
        "\n",
        "car[\"year\"] = 2024\n",
        "print(\"After updating 'year':\", car)\n",
        "\n",
        "car[\"color\"] = \"red\"\n",
        "print(\"After adding a new key 'color':\", car)\n",
        "\n",
        "\n",
        "removed_value = car.pop(\"model\")\n",
        "print(\"Removed 'model' key with value:\", removed_value)\n",
        "print(\"Dictionary after pop operation:\", car)\n",
        "\n",
        "\n",
        "last_item = car.popitem()\n",
        "print(\"Removed the last inserted item:\", last_item)\n",
        "print(\"Dictionary after popitem:\", car)\n",
        "\n",
        "\n",
        "print(\"Get 'brand' safely:\", car.get(\"brand\"))\n",
        "print(\"Get non-existing key safely (returns None):\", car.get(\"engine\"))\n",
        "\n",
        "\n",
        "if \"brand\" in car:\n",
        "            print(\"'brand' key exists in the dictionary.\")\n",
        "\n",
        "\n",
        "print(\"All keys:\", car.keys())\n",
        "print(\"All values:\", car.values())\n",
        "print(\"All items (key–value pairs):\", car.items())\n",
        "\n",
        "\n",
        "\n",
        "car_copy = car.copy()\n",
        "print(\"Shallow copy of dictionary:\", car_copy)\n",
        "\n",
        "car.clear()\n",
        "print(\"Dictionary after clearing all items:\", car)"
      ],
      "metadata": {
        "colab": {
          "base_uri": "https://localhost:8080/"
        },
        "id": "BJZcu6OdGxYT",
        "outputId": "de95d004-4ead-48dd-e1a6-5096488f1966"
      },
      "execution_count": 167,
      "outputs": [
        {
          "output_type": "stream",
          "name": "stdout",
          "text": [
            "Initial dictionary: {'brand': 'Ford', 'model': 'Mustang', 'year': 1964}\n",
            "Model of the car: Mustang\n",
            "After updating 'year': {'brand': 'Ford', 'model': 'Mustang', 'year': 2024}\n",
            "After adding a new key 'color': {'brand': 'Ford', 'model': 'Mustang', 'year': 2024, 'color': 'red'}\n",
            "Removed 'model' key with value: Mustang\n",
            "Dictionary after pop operation: {'brand': 'Ford', 'year': 2024, 'color': 'red'}\n",
            "Removed the last inserted item: ('color', 'red')\n",
            "Dictionary after popitem: {'brand': 'Ford', 'year': 2024}\n",
            "Get 'brand' safely: Ford\n",
            "Get non-existing key safely (returns None): None\n",
            "'brand' key exists in the dictionary.\n",
            "All keys: dict_keys(['brand', 'year'])\n",
            "All values: dict_values(['Ford', 2024])\n",
            "All items (key–value pairs): dict_items([('brand', 'Ford'), ('year', 2024)])\n",
            "Shallow copy of dictionary: {'brand': 'Ford', 'year': 2024}\n",
            "Dictionary after clearing all items: {}\n"
          ]
        }
      ]
    },
    {
      "cell_type": "markdown",
      "source": [
        "**Activity 6: Sets**"
      ],
      "metadata": {
        "id": "9MA3blyvHKLN"
      }
    },
    {
      "cell_type": "code",
      "source": [
        "\n",
        "thisset = {\"apple\", \"banana\", \"cherry\"}\n",
        "print(\"Initial set:\", thisset)\n",
        "\n",
        "set1 = {\"abc\", 34, True, 40, \"male\"}\n",
        "print(\"Mixed-type set:\", set1)\n",
        "\n",
        "thisset.add(\"orange\")\n",
        "\n",
        "print(\"After adding 'orange':\", thisset)\n",
        "\n",
        "thisset.update([\"grape\", \"mango\"])\n",
        "print(\"After adding multiple elements:\", thisset)\n",
        "\n",
        "thisset.remove(\"banana\")\n",
        "print(\"After removing 'banana':\", thisset)\n",
        "\n",
        "thisset.discard(\"papaya\")\n",
        "print(\"After attempting to discard 'papaya' (not present):\", thisset)\n",
        "\n",
        "removed_item = thisset.pop()\n",
        "print(\"Removed an arbitrary element:\", removed_item)\n",
        "print(\"Set after pop operation:\", thisset)\n",
        "\n",
        "print(\"Is 'apple' in the set?\", \"apple\" in thisset)\n",
        "\n",
        "union_set = thisset.union(set1)\n",
        "\n",
        "print(\"Union of thisset and set1:\", union_set)\n",
        "\n",
        "intersection_set = thisset.intersection(set1)\n",
        "print(\"Intersection of thisset and set1:\", intersection_set)\n",
        "\n",
        "difference_set = thisset.difference(set1)\n",
        "print(\"Difference (thisset - set1):\", difference_set)\n",
        "\n",
        "copy_set = thisset.copy()\n",
        "print(\"Copy of the set:\", copy_set)\n",
        "\n",
        "thisset.clear()\n",
        "print(\"Set after clearing all elements:\", thisset)"
      ],
      "metadata": {
        "colab": {
          "base_uri": "https://localhost:8080/"
        },
        "id": "JE6VShwPHUH0",
        "outputId": "8449a77f-1ffe-4a6e-cc30-7871e5770891"
      },
      "execution_count": 168,
      "outputs": [
        {
          "output_type": "stream",
          "name": "stdout",
          "text": [
            "Initial set: {'apple', 'banana', 'cherry'}\n",
            "Mixed-type set: {True, 34, 40, 'abc', 'male'}\n",
            "After adding 'orange': {'apple', 'banana', 'orange', 'cherry'}\n",
            "After adding multiple elements: {'orange', 'cherry', 'apple', 'grape', 'banana', 'mango'}\n",
            "After removing 'banana': {'orange', 'cherry', 'apple', 'grape', 'mango'}\n",
            "After attempting to discard 'papaya' (not present): {'orange', 'cherry', 'apple', 'grape', 'mango'}\n",
            "Removed an arbitrary element: orange\n",
            "Set after pop operation: {'cherry', 'apple', 'grape', 'mango'}\n",
            "Is 'apple' in the set? True\n",
            "Union of thisset and set1: {True, 34, 'cherry', 'apple', 'grape', 40, 'abc', 'male', 'mango'}\n",
            "Intersection of thisset and set1: set()\n",
            "Difference (thisset - set1): {'apple', 'grape', 'mango', 'cherry'}\n",
            "Copy of the set: {'apple', 'grape', 'mango', 'cherry'}\n",
            "Set after clearing all elements: set()\n"
          ]
        }
      ]
    },
    {
      "cell_type": "markdown",
      "source": [
        "**Activity 7: Tuples**"
      ],
      "metadata": {
        "id": "81LMGXrfHv5j"
      }
    },
    {
      "cell_type": "code",
      "source": [
        "thistuple = (\"apple\", \"banana\", \"cherry\")\n",
        "print(thistuple[1])"
      ],
      "metadata": {
        "colab": {
          "base_uri": "https://localhost:8080/"
        },
        "id": "IVoH98hvH6V8",
        "outputId": "4c440a7f-5152-4202-9fff-57b129fef857"
      },
      "execution_count": 169,
      "outputs": [
        {
          "output_type": "stream",
          "name": "stdout",
          "text": [
            "banana\n"
          ]
        }
      ]
    },
    {
      "cell_type": "markdown",
      "source": [
        "**Activity 8: Conditions and If Statements**"
      ],
      "metadata": {
        "id": "j2jzp2NuIBNm"
      }
    },
    {
      "cell_type": "code",
      "source": [
        "a, b = 33, 200\n",
        "if b > a:\n",
        "      print(\"b is greater than a\")\n",
        "elif a == b:\n",
        "      print(\"a and b are equal\")\n",
        "else:\n",
        "      print(\"a is greater than b\")"
      ],
      "metadata": {
        "colab": {
          "base_uri": "https://localhost:8080/"
        },
        "id": "jBaHKIS5IJB2",
        "outputId": "421dd7c0-08ce-47fa-a242-89e7248382dd"
      },
      "execution_count": 170,
      "outputs": [
        {
          "output_type": "stream",
          "name": "stdout",
          "text": [
            "b is greater than a\n"
          ]
        }
      ]
    },
    {
      "cell_type": "markdown",
      "source": [
        "**Activity 9: Loops**"
      ],
      "metadata": {
        "id": "skO3JYMXIY8Y"
      }
    },
    {
      "cell_type": "code",
      "source": [
        "\n",
        "for i in range(5):\n",
        "      print(\"Number:\", i)\n",
        "\n",
        "for i in range(2, 7):\n",
        "      print(\"From 2 to 6:\", i)\n",
        "\n",
        "for i in range(0, 10, 2):\n",
        "      print(\"Even number:\", i)\n",
        "\n",
        "for i in range(5, 0, -1):\n",
        "      print(\"Countdown:\", i)\n",
        "\n",
        "fruits = [\"apple\", \"banana\", \"cherry\"]\n",
        "for index in range(len(fruits)):\n",
        "      print(\"Index:\", index, \"Fruit:\", fruits[index])\n",
        "\n",
        "for i in range(10):\n",
        "    if i % 2 != 0:\n",
        "      print(\"Odd number:\", i)"
      ],
      "metadata": {
        "colab": {
          "base_uri": "https://localhost:8080/"
        },
        "id": "AI_IAb8NIflA",
        "outputId": "3282bbf4-a8b9-4a3d-8c94-3f3a2962c95d"
      },
      "execution_count": 171,
      "outputs": [
        {
          "output_type": "stream",
          "name": "stdout",
          "text": [
            "Number: 0\n",
            "Number: 1\n",
            "Number: 2\n",
            "Number: 3\n",
            "Number: 4\n",
            "From 2 to 6: 2\n",
            "From 2 to 6: 3\n",
            "From 2 to 6: 4\n",
            "From 2 to 6: 5\n",
            "From 2 to 6: 6\n",
            "Even number: 0\n",
            "Even number: 2\n",
            "Even number: 4\n",
            "Even number: 6\n",
            "Even number: 8\n",
            "Countdown: 5\n",
            "Countdown: 4\n",
            "Countdown: 3\n",
            "Countdown: 2\n",
            "Countdown: 1\n",
            "Index: 0 Fruit: apple\n",
            "Index: 1 Fruit: banana\n",
            "Index: 2 Fruit: cherry\n",
            "Odd number: 1\n",
            "Odd number: 3\n",
            "Odd number: 5\n",
            "Odd number: 7\n",
            "Odd number: 9\n"
          ]
        }
      ]
    },
    {
      "cell_type": "markdown",
      "source": [
        "**Activity 10: Functions**"
      ],
      "metadata": {
        "id": "hw61O9o_IyRE"
      }
    },
    {
      "cell_type": "code",
      "source": [
        "\n",
        "def my_function(fname, lname):\n",
        "    print(\"Full name:\", fname + \" \" + lname)\n",
        "\n",
        "my_function(\"Emil\", \"Refsnes\")\n",
        "\n",
        "def kids_function(*kids):\n",
        "    print(\"The youngest child is:\", kids[2])\n",
        "\n",
        "kids_function(\"Emil\", \"Tobias\", \"Linus\")\n",
        "\n",
        "def greet_user(name=\"Guest\"):\n",
        "    print(\"Hello,\", name)\n",
        "\n",
        "greet_user()\n",
        "greet_user(\"Alice\")\n",
        "\n",
        "def describe_pet(**pet_info):\n",
        "    print(\"Pet details:\")\n",
        "    for key, value in pet_info.items():\n",
        "        print(key.capitalize() + \":\", value)\n",
        "\n",
        "describe_pet(type=\"Dog\", name=\"Buddy\", age=5)\n",
        "\n",
        "def add_numbers(a, b):\n",
        "    return a + b\n",
        "\n",
        "result = add_numbers(10, 20)\n",
        "print(\"Sum of numbers:\", result)\n"
      ],
      "metadata": {
        "colab": {
          "base_uri": "https://localhost:8080/"
        },
        "id": "E6dRp8b0I9tx",
        "outputId": "9a3fab6c-4da7-4875-a1a6-0149ddbd8da2"
      },
      "execution_count": 172,
      "outputs": [
        {
          "output_type": "stream",
          "name": "stdout",
          "text": [
            "Full name: Emil Refsnes\n",
            "The youngest child is: Linus\n",
            "Hello, Guest\n",
            "Hello, Alice\n",
            "Pet details:\n",
            "Type: Dog\n",
            "Name: Buddy\n",
            "Age: 5\n",
            "Sum of numbers: 30\n"
          ]
        }
      ]
    },
    {
      "cell_type": "markdown",
      "source": [
        "**Exercise**                                                     "
      ],
      "metadata": {
        "id": "eXgKD7h9LELI"
      }
    },
    {
      "cell_type": "markdown",
      "source": [
        "**1**"
      ],
      "metadata": {
        "id": "1kWJGaNlLf2s"
      }
    },
    {
      "cell_type": "code",
      "source": [
        "def is_prime(num):\n",
        "    if num <= 1:\n",
        "        return False\n",
        "    for i in range(2, int(num**0.5) + 1):\n",
        "        if num % i == 0:\n",
        "            return False\n",
        "    return True\n",
        "number = int(input(\"Enter a number: \"))\n",
        "if is_prime(number):\n",
        "    print(number, \"is a prime number\")\n",
        "else:\n",
        "    print(number, \"is not a prime number\")"
      ],
      "metadata": {
        "colab": {
          "base_uri": "https://localhost:8080/"
        },
        "id": "PkyTqR6cLY4f",
        "outputId": "13f04a53-aef0-491c-80a4-6ae58d4afc4f"
      },
      "execution_count": 173,
      "outputs": [
        {
          "output_type": "stream",
          "name": "stdout",
          "text": [
            "Enter a number: 4\n",
            "4 is not a prime number\n"
          ]
        }
      ]
    },
    {
      "cell_type": "markdown",
      "source": [
        "**2**"
      ],
      "metadata": {
        "id": "IU9My5DWLfAr"
      }
    },
    {
      "cell_type": "code",
      "source": [
        "numbers = [4, 8, 15, 16, 23, 42, 7, 9, 10, 12]\n",
        "average = sum(numbers) / len(numbers)\n",
        "print(average)\n"
      ],
      "metadata": {
        "colab": {
          "base_uri": "https://localhost:8080/"
        },
        "id": "fgRNmliHLkt0",
        "outputId": "b0b562c8-0dfc-421a-c610-75ab204a1256"
      },
      "execution_count": 174,
      "outputs": [
        {
          "output_type": "stream",
          "name": "stdout",
          "text": [
            "14.6\n"
          ]
        }
      ]
    },
    {
      "cell_type": "markdown",
      "source": [
        "**3**"
      ],
      "metadata": {
        "id": "F4q32sv-LtOc"
      }
    },
    {
      "cell_type": "code",
      "source": [
        "students = {\"Alice\": 85, \"Bob\": 92, \"Charlie\": 88}\n",
        "topper = max(students, key=students.get)\n",
        "print(topper)\n"
      ],
      "metadata": {
        "colab": {
          "base_uri": "https://localhost:8080/"
        },
        "id": "EQF0sjQaLui8",
        "outputId": "6bb2a686-a480-42c6-f65c-7db41aff9911"
      },
      "execution_count": 175,
      "outputs": [
        {
          "output_type": "stream",
          "name": "stdout",
          "text": [
            "Bob\n"
          ]
        }
      ]
    },
    {
      "cell_type": "markdown",
      "source": [
        "**4**"
      ],
      "metadata": {
        "id": "GYFgsoTYL4Jq"
      }
    },
    {
      "cell_type": "code",
      "source": [
        "set1 = {1, 2, 3, 4}\n",
        "set2 = {3, 4, 5, 6}\n",
        "print(set1.union(set2))\n",
        "print(set1.intersection(set2))\n",
        "print(set1.difference(set2))\n"
      ],
      "metadata": {
        "colab": {
          "base_uri": "https://localhost:8080/"
        },
        "id": "lQM3lVVWMBiB",
        "outputId": "53d13209-58fc-4fab-d992-aa278136cf25"
      },
      "execution_count": 176,
      "outputs": [
        {
          "output_type": "stream",
          "name": "stdout",
          "text": [
            "{1, 2, 3, 4, 5, 6}\n",
            "{3, 4}\n",
            "{1, 2}\n"
          ]
        }
      ]
    },
    {
      "cell_type": "markdown",
      "source": [
        "**5**"
      ],
      "metadata": {
        "id": "r6dfL1-rMR_a"
      }
    },
    {
      "cell_type": "code",
      "source": [
        "def factorial(n):\n",
        "    if n == 0:\n",
        "        return 1\n",
        "    return n * factorial(n - 1)"
      ],
      "metadata": {
        "id": "aDT2nVM2MWuh"
      },
      "execution_count": 177,
      "outputs": []
    },
    {
      "cell_type": "markdown",
      "source": [
        "**6**"
      ],
      "metadata": {
        "id": "Jh82zH3XMaAS"
      }
    },
    {
      "cell_type": "code",
      "source": [
        "n = 10\n",
        "a, b = 0, 1\n",
        "for _ in range(n):\n",
        "    print(a, end=\" \")\n",
        "    a, b = b, a + b\n",
        "print()\n"
      ],
      "metadata": {
        "colab": {
          "base_uri": "https://localhost:8080/"
        },
        "id": "ObIqQPR1MbfK",
        "outputId": "d190e7ae-5f02-40b4-df30-d52380be05dd"
      },
      "execution_count": 178,
      "outputs": [
        {
          "output_type": "stream",
          "name": "stdout",
          "text": [
            "0 1 1 2 3 5 8 13 21 34 \n"
          ]
        }
      ]
    },
    {
      "cell_type": "markdown",
      "source": [
        "**7**"
      ],
      "metadata": {
        "id": "9QyCXivLMghK"
      }
    },
    {
      "cell_type": "code",
      "source": [
        "s = input(\"Enter a string: \")\n",
        "vowels = \"aeiouAEIOU\"\n",
        "count = sum(1 for char in s if char in vowels)\n",
        "print(count)"
      ],
      "metadata": {
        "colab": {
          "base_uri": "https://localhost:8080/"
        },
        "id": "0E6GmpVAMh3K",
        "outputId": "bef14946-9acd-43b4-9dd8-576d862a4b71"
      },
      "execution_count": 179,
      "outputs": [
        {
          "output_type": "stream",
          "name": "stdout",
          "text": [
            "Enter a string: hello\n",
            "2\n"
          ]
        }
      ]
    },
    {
      "cell_type": "markdown",
      "source": [
        "**8**"
      ],
      "metadata": {
        "id": "SplKlXGvMsop"
      }
    },
    {
      "cell_type": "code",
      "source": [
        "numbers = (23, 45, 12, 67, 89, 34, 10, 5)\n",
        "print(\"Maximum:\", max(numbers))\n",
        "print(\"Minimum:\", min(numbers))"
      ],
      "metadata": {
        "colab": {
          "base_uri": "https://localhost:8080/"
        },
        "id": "w_kWrJiHMud5",
        "outputId": "fa30bc26-11f0-48f8-8921-22066706b1cd"
      },
      "execution_count": 180,
      "outputs": [
        {
          "output_type": "stream",
          "name": "stdout",
          "text": [
            "Maximum: 89\n",
            "Minimum: 5\n"
          ]
        }
      ]
    },
    {
      "cell_type": "markdown",
      "source": [
        "**9**"
      ],
      "metadata": {
        "id": "ygwePSSNNm-x"
      }
    },
    {
      "cell_type": "code",
      "source": [
        "text = input(\"Enter a string: \")\n",
        "reversed_text = text[::-1]\n",
        "print(\"Reversed string:\", reversed_text)"
      ],
      "metadata": {
        "colab": {
          "base_uri": "https://localhost:8080/"
        },
        "id": "baDKi-qHNosR",
        "outputId": "7497d142-ecaa-4ad1-9a8e-0e3d75f0735f"
      },
      "execution_count": 181,
      "outputs": [
        {
          "output_type": "stream",
          "name": "stdout",
          "text": [
            "Enter a string: aaira\n",
            "Reversed string: ariaa\n"
          ]
        }
      ]
    }
  ]
}